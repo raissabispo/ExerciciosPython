{
 "cells": [
  {
   "cell_type": "markdown",
   "metadata": {},
   "source": [
    "1 DESAFIO"
   ]
  },
  {
   "cell_type": "code",
   "execution_count": null,
   "metadata": {},
   "outputs": [],
   "source": [
    "#A\n",
    "minha_lista = [76, 92.3, \"oi\", True, 4, 76]\n",
    "minha_lista[5:] = \"pitomba\", 76\n",
    "print(minha_lista[:])\n",
    "\n",
    "#B\n",
    "\n",
    "minha_lista[3:] = \"Cibele\", True\n",
    "nova_lista = [ 4 ,76]\n",
    "\n",
    "print(minha_lista + nova_lista)\n",
    "minha_lista = [76, 92.3, \"oi\", True, 4, 76]\n",
    "\n",
    "#C\n",
    "\n",
    "minha_lista = [76, 92.3, \"oi\", True, 4, 76]\n",
    "nova_lista[0] = 99\n",
    "print(nova_lista[:1] + [76] + nova_lista[1:])\n",
    "\n",
    "\n",
    "#D\n",
    "minha_lista = [76, 92.3, \"oi\", True, 4, 76]\n",
    "\n",
    "if( minha_lista[0] == \"oi\"):\n",
    "    print(\"o indice procurado é o zero\")\n",
    "\n",
    "elif( minha_lista[1] == \"oi\"):\n",
    "      print(\"o indice procurado é o primeiro\")\n",
    "\n",
    "elif( minha_lista[2] == \"oi\"):\n",
    "      print(\"o indice procurado é o segundo\")\n",
    "\n",
    "elif( minha_lista[3] == \"oi\"):\n",
    "      print(\"o indice procurado é o terceiro\")\n",
    "\n",
    "elif( minha_lista[4] == \"oi\"):\n",
    "      print(\"o indice procurado é o quatro\")\n",
    "\n",
    "elif( minha_lista[5] == \"oi\"):\n",
    "      print(\"o indice procurado é o quinto\")\n",
    "\n",
    "\n",
    "#E\n",
    "\n",
    "minha_lista = [76, 92.3, \"oi\", True, 4, 76]\n",
    "nova_lista = [4, 76]\n",
    "print(minha_lista[:3] + nova_lista)"
   ]
  }
 ],
 "metadata": {
  "kernelspec": {
   "display_name": "Python 3",
   "language": "python",
   "name": "python3"
  },
  "language_info": {
   "name": "python",
   "version": "3.11.9"
  }
 },
 "nbformat": 4,
 "nbformat_minor": 2
}
