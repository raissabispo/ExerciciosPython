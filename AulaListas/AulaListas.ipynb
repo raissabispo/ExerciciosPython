{
 "cells": [
  {
   "cell_type": "markdown",
   "metadata": {},
   "source": [
    "ESTRUTURA DE DADOS(LISTAS)"
   ]
  },
  {
   "cell_type": "code",
   "execution_count": null,
   "metadata": {},
   "outputs": [],
   "source": [
    "l=[] #lista vazia\n",
    "l= list()#construtor de listas(outro objeto e quero transformar em uma lista)"
   ]
  },
  {
   "cell_type": "code",
   "execution_count": 8,
   "metadata": {},
   "outputs": [
    {
     "data": {
      "text/plain": [
       "3"
      ]
     },
     "execution_count": 8,
     "metadata": {},
     "output_type": "execute_result"
    }
   ],
   "source": [
    "dias = [3, 1, 10]#criação de lista com três elementos\n",
    "dias[0]#a contagem começa do 0 \n"
   ]
  },
  {
   "cell_type": "code",
   "execution_count": 6,
   "metadata": {},
   "outputs": [
    {
     "data": {
      "text/plain": [
       "1"
      ]
     },
     "execution_count": 6,
     "metadata": {},
     "output_type": "execute_result"
    }
   ],
   "source": [
    "dias[1]#elemento da posição 1"
   ]
  },
  {
   "cell_type": "code",
   "execution_count": 7,
   "metadata": {},
   "outputs": [
    {
     "data": {
      "text/plain": [
       "10"
      ]
     },
     "execution_count": 7,
     "metadata": {},
     "output_type": "execute_result"
    }
   ],
   "source": [
    "dias[2]#elemento da posição 2"
   ]
  },
  {
   "cell_type": "code",
   "execution_count": 9,
   "metadata": {},
   "outputs": [
    {
     "data": {
      "text/plain": [
       "[7, 8, 9]"
      ]
     },
     "execution_count": 9,
     "metadata": {},
     "output_type": "execute_result"
    }
   ],
   "source": [
    "#Modificando a lista\n",
    "\n",
    "Z = [3, 8 ,9] #lista com 3 elementos\n",
    "Z[0] = 7 # A posição 0 recebe o número 7\n",
    "Z #7\n"
   ]
  },
  {
   "cell_type": "code",
   "execution_count": 10,
   "metadata": {},
   "outputs": [
    {
     "name": "stdout",
     "output_type": "stream",
     "text": [
      "True\n",
      "True\n",
      "[5, 7, 5, 8, 9]\n",
      "[5, 7, 5, 8, 9]\n"
     ]
    }
   ],
   "source": [
    "V = [6,7,5,8,9]\n",
    "L = V #criou uma outra lista L que recebe V, L é uma nova forma de acessar a lista V(os dois apontam  para o mesmo lugar da memória, o conteudo é igual e o objeto também)\n",
    "print( V==L)#Comparação entre os valores\n",
    "print(V is L)#V é l? \n",
    "V[0] = 5 #Alterou a posição 0 da lista V e L, pois se altera o V a lista l tambem altera\n",
    "print(V)\n",
    "print(L)"
   ]
  },
  {
   "cell_type": "code",
   "execution_count": 11,
   "metadata": {},
   "outputs": [
    {
     "name": "stdout",
     "output_type": "stream",
     "text": [
      "True\n",
      "False\n",
      "[81, 82, 83]\n",
      "[5, 82, 83]\n"
     ]
    }
   ],
   "source": [
    "a = [81, 82, 83] #criação da lista\n",
    "b = a[:] #Possuem o mesmo conteudo,mas não estao no mesmo lugar da memoria( sao dois objetos diferentes)\n",
    "print( a == b) #comparação entre a e b\n",
    "print( a is b ) #a é b?\n",
    "b[0] = 5 #alterou a posição 0 da lista b \n",
    "print(a)\n",
    "print(b)"
   ]
  },
  {
   "cell_type": "code",
   "execution_count": 13,
   "metadata": {},
   "outputs": [
    {
     "name": "stdout",
     "output_type": "stream",
     "text": [
      "['b', 'c']\n",
      "['a', 'b', 'c', 'd']\n",
      "['d', 'e', 'f']\n",
      "['a', 'b', 'c', 'd', 'e', 'f']\n"
     ]
    }
   ],
   "source": [
    "#Fatiamento de listas\n",
    "#até(:) começa do 0 e para no anterior\n",
    "#inclui o primeiro e exclui o ultimo\n",
    "\n",
    "uma_lista =['a', 'b', 'c', 'd', 'e' ,'f']\n",
    "print(uma_lista[1:3])# do primeiro até o terceiro, ele excluiu a terceiro elemento\n",
    "print(uma_lista[:4])# da posição zero até quarto elemento,ele excluiu o quarto elemento\n",
    "print(uma_lista[3:])# do terceiro elemento até o ultimo\n",
    "print(uma_lista[:])# copiou toda a lista "
   ]
  },
  {
   "cell_type": "code",
   "execution_count": 17,
   "metadata": {},
   "outputs": [
    {
     "name": "stdout",
     "output_type": "stream",
     "text": [
      "3\n"
     ]
    }
   ],
   "source": [
    "a = [1,2,3]\n",
    "b = a[:]\n",
    "b[0] = 5\n",
    "print(a[2])"
   ]
  },
  {
   "cell_type": "markdown",
   "metadata": {},
   "source": [
    "1 DESAFIO!!"
   ]
  },
  {
   "cell_type": "code",
   "execution_count": 28,
   "metadata": {},
   "outputs": [
    {
     "name": "stdout",
     "output_type": "stream",
     "text": [
      "[76, 92.3, 'oi', True, 4, 'pitomba', 76]\n"
     ]
    }
   ],
   "source": [
    "#A\n",
    "minha_lista = [76, 92.3, \"oi\", True, 4, 76]\n",
    "minha_lista[5:] = \"pitomba\", 76\n",
    "print(minha_lista[:])\n",
    "\n"
   ]
  },
  {
   "cell_type": "code",
   "execution_count": 32,
   "metadata": {},
   "outputs": [
    {
     "name": "stdout",
     "output_type": "stream",
     "text": [
      "[76, 92.3, 'oi', True, 4, 76, 'pitomba', 76]\n"
     ]
    }
   ],
   "source": [
    "#Correção\n",
    "minha_lista = [76, 92.3, \"oi\", True, 4, 76]\n",
    "nova_lista = [\"pitomba\", 76]\n",
    "print(minha_lista + nova_lista)"
   ]
  },
  {
   "cell_type": "code",
   "execution_count": 59,
   "metadata": {},
   "outputs": [
    {
     "name": "stdout",
     "output_type": "stream",
     "text": [
      "[76, 92.3, 'oi', 'Cibele', True, 4, 76]\n"
     ]
    }
   ],
   "source": [
    "#B\n",
    "\n",
    "\n",
    "minha_lista[3:] = \"Cibele\", True\n",
    "nova_lista = [ 4 ,76]\n",
    "\n",
    "print(minha_lista + nova_lista)\n",
    "minha_lista = [76, 92.3, \"oi\", True, 4, 76]"
   ]
  },
  {
   "cell_type": "code",
   "execution_count": 70,
   "metadata": {},
   "outputs": [
    {
     "name": "stdout",
     "output_type": "stream",
     "text": [
      "[76, 92.3, 'oi', 'Cibele', True, 4, 76]\n"
     ]
    }
   ],
   "source": [
    "#CORREÇÂO\n",
    "nova_lista = [76, 92.3, \"oi\", True, 4, 76]\n",
    "print(nova_lista[:3] + [\"Cibele\"] + nova_lista[3:]) #DE 0 ATE 3, OU SEJA, ATE O SEGUNDO INDICE, ADICIONA 'CIBELE' E E CONCATENA COM UMA NOVA LISTA QUE VAI DO INDICE 3 ATE O ULTIMO "
   ]
  },
  {
   "cell_type": "code",
   "execution_count": 78,
   "metadata": {},
   "outputs": [
    {
     "name": "stdout",
     "output_type": "stream",
     "text": [
      "[99, 76, 92.3, 'oi', True, 4, 76]\n"
     ]
    }
   ],
   "source": [
    "#C\n",
    "\n",
    "minha_lista = [76, 92.3, \"oi\", True, 4, 76]\n",
    "nova_lista[0] = 99\n",
    "print(nova_lista[:1] + [76] + nova_lista[1:])\n",
    "\n"
   ]
  },
  {
   "cell_type": "code",
   "execution_count": 82,
   "metadata": {},
   "outputs": [
    {
     "name": "stdout",
     "output_type": "stream",
     "text": [
      "o indice procurado é o segundo\n"
     ]
    }
   ],
   "source": [
    "#D\n",
    "minha_lista = [76, 92.3, \"oi\", True, 4, 76]\n",
    "\n",
    "if( minha_lista[0] == \"oi\"):\n",
    "    print(\"o indice procurado é o zero\")\n",
    "\n",
    "elif( minha_lista[1] == \"oi\"):\n",
    "      print(\"o indice procurado é o primeiro\")\n",
    "\n",
    "elif( minha_lista[2] == \"oi\"):\n",
    "      print(\"o indice procurado é o segundo\")\n",
    "\n",
    "elif( minha_lista[3] == \"oi\"):\n",
    "      print(\"o indice procurado é o terceiro\")\n",
    "\n",
    "elif( minha_lista[4] == \"oi\"):\n",
    "      print(\"o indice procurado é o quatro\")\n",
    "\n",
    "elif( minha_lista[5] == \"oi\"):\n",
    "      print(\"o indice procurado é o quinto\")\n",
    "\n",
    "\n"
   ]
  },
  {
   "cell_type": "code",
   "execution_count": 97,
   "metadata": {},
   "outputs": [
    {
     "name": "stdout",
     "output_type": "stream",
     "text": [
      "[76, 92.3, 'oi', 4, 76]\n"
     ]
    }
   ],
   "source": [
    "#E\n",
    "\n",
    "minha_lista = [76, 92.3, \"oi\", True, 4, 76]\n",
    "nova_lista = [4, 76]\n",
    "print(minha_lista[:3] + nova_lista)\n",
    "\n"
   ]
  },
  {
   "cell_type": "code",
   "execution_count": 98,
   "metadata": {},
   "outputs": [
    {
     "name": "stdout",
     "output_type": "stream",
     "text": [
      "[76, 92.3, 'oi', 4, 76]\n"
     ]
    }
   ],
   "source": [
    "#DE OUTRA FORMA\n",
    "minha_lista = [76, 92.3, \"oi\", True, 4, 76]\n",
    "print(minha_lista[:3] + minha_lista[4:])"
   ]
  },
  {
   "cell_type": "code",
   "execution_count": 99,
   "metadata": {},
   "outputs": [
    {
     "name": "stdout",
     "output_type": "stream",
     "text": [
      "[4, 2, 8, 6, 5, 'Cibele']\n"
     ]
    }
   ],
   "source": [
    "uma_lista = [4, 2, 8, 6, 5]\n",
    "uma_lista = uma_lista + [\"Cibele\"]\n",
    "print(uma_lista)"
   ]
  },
  {
   "cell_type": "markdown",
   "metadata": {},
   "source": [
    "Tuplas"
   ]
  },
  {
   "cell_type": "code",
   "execution_count": 1,
   "metadata": {},
   "outputs": [
    {
     "data": {
      "text/plain": [
       "(10, 20, 30)"
      ]
     },
     "execution_count": 1,
     "metadata": {},
     "output_type": "execute_result"
    }
   ],
   "source": [
    "tupla_numeros = (10, 20, 30)\n",
    "tupla_numeros"
   ]
  },
  {
   "cell_type": "code",
   "execution_count": 2,
   "metadata": {},
   "outputs": [
    {
     "data": {
      "text/plain": [
       "(10, 20, 30)"
      ]
     },
     "execution_count": 2,
     "metadata": {},
     "output_type": "execute_result"
    }
   ],
   "source": [
    "tupla_numeros = 10, 20, 30\n",
    "tupla_numeros"
   ]
  },
  {
   "cell_type": "code",
   "execution_count": 3,
   "metadata": {},
   "outputs": [
    {
     "data": {
      "text/plain": [
       "(10,)"
      ]
     },
     "execution_count": 3,
     "metadata": {},
     "output_type": "execute_result"
    }
   ],
   "source": [
    "tupla_elemento = 10,\n",
    "tupla_elemento"
   ]
  },
  {
   "cell_type": "code",
   "execution_count": 4,
   "metadata": {},
   "outputs": [
    {
     "data": {
      "text/plain": [
       "[]"
      ]
     },
     "execution_count": 4,
     "metadata": {},
     "output_type": "execute_result"
    }
   ],
   "source": [
    "tupla_vazia = []\n",
    "tupla_vazia"
   ]
  },
  {
   "cell_type": "code",
   "execution_count": 5,
   "metadata": {},
   "outputs": [
    {
     "data": {
      "text/plain": [
       "('t', 'e', 's', 't', 'e')"
      ]
     },
     "execution_count": 5,
     "metadata": {},
     "output_type": "execute_result"
    }
   ],
   "source": [
    "#Função Tuple\n",
    "\n",
    "nova_tupla = tuple(\"teste\")\n",
    "nova_tupla "
   ]
  },
  {
   "cell_type": "markdown",
   "metadata": {},
   "source": [
    "Métodos|Tuplas\n"
   ]
  },
  {
   "cell_type": "code",
   "execution_count": 9,
   "metadata": {},
   "outputs": [
    {
     "name": "stdout",
     "output_type": "stream",
     "text": [
      "1\n",
      "0\n",
      "1\n",
      "3\n"
     ]
    }
   ],
   "source": [
    "tupla_nomes = (\"Marlene\", \"Zezinho\", \"Marelene\", \"Cibele\", \"Zuely\")\n",
    "print(tupla_nomes.count(\"Marlene\"))#contar quantas vezes essa palavras aparece\n",
    "print(tupla_nomes.count(\"Suely\"))\n",
    "print(tupla_nomes.count(\"Zezinho\"))\n",
    "tupla_elementos=(1,2,2,3,4,4,4,5)\n",
    "print(tupla_elementos.count(4))\n"
   ]
  }
 ],
 "metadata": {
  "kernelspec": {
   "display_name": "Python 3",
   "language": "python",
   "name": "python3"
  },
  "language_info": {
   "codemirror_mode": {
    "name": "ipython",
    "version": 3
   },
   "file_extension": ".py",
   "mimetype": "text/x-python",
   "name": "python",
   "nbconvert_exporter": "python",
   "pygments_lexer": "ipython3",
   "version": "3.11.9"
  }
 },
 "nbformat": 4,
 "nbformat_minor": 2
}
