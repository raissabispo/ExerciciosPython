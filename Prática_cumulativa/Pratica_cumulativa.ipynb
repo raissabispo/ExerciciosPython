{
 "cells": [
  {
   "cell_type": "markdown",
   "metadata": {},
   "source": [
    "Algoritmo e Estruturas de Dados:\n",
    "Prática Cumulativa:"
   ]
  },
  {
   "cell_type": "code",
   "execution_count": 1,
   "metadata": {},
   "outputs": [
    {
     "name": "stdout",
     "output_type": "stream",
     "text": [
      "A letra ' i ' é uma vogal\n"
     ]
    }
   ],
   "source": [
    "#1.faça um programa que verifique se uma letra digitada é vogal ou consoante:\n",
    "\n",
    "letra = str(input(\"Digite uma letra do alfabeto: \"))\n",
    "\n",
    "if letra == \"A\" or letra == \"a\":\n",
    "       print(\"A letra '\",letra,\"' é uma vogal\")\n",
    "    \n",
    "elif letra ==\"E\" or letra ==\"e\":\n",
    "      print(\"A letra '\",letra,\"' é uma vogal\")\n",
    "    \n",
    "elif letra == \"I\" or letra ==\"i\":\n",
    "      print(\"A letra '\",letra,\"' é uma vogal\")\n",
    "    \n",
    "elif letra == \"O\" or letra ==\"o\":\n",
    "   print(\"A letra '\",letra,\"' é uma vogal\")\n",
    "    \n",
    "elif letra == \"U\" or letra == \"u\":\n",
    "   print(\"A letra '\",letra,\"' é uma vogal\")\n",
    "\n",
    "\n",
    "else:\n",
    "    print(\"A letra '\",letra,\"' é uma consoante\")"
   ]
  },
  {
   "cell_type": "code",
   "execution_count": 2,
   "metadata": {},
   "outputs": [
    {
     "name": "stdout",
     "output_type": "stream",
     "text": [
      "Você deve comprar o primeiro produto que custa:  20.0 R$\n"
     ]
    }
   ],
   "source": [
    "#2.faça um programa que pergunte o preço de três produtos e informe qual produto você deve comprar, sabendo que a decisão é \n",
    "# sempre pelo mais barato\n",
    "\n",
    "valorProduto1 = float(input(\"Digite o valor do primeiro produto\"))\n",
    "valorProduto2 = float(input(\"Digite o valor do segundo produto\"))\n",
    "valorProduto3 = float(input(\"Digite o valor do terceiro produto\"))\n",
    "\n",
    "#O primeiro produto é  menor que o segundo produto e o primeiro produto é menor que o terceiro produto:\n",
    "if valorProduto1 < valorProduto2 and valorProduto1 < valorProduto3:\n",
    "    print(\"Você deve comprar o primeiro produto que custa: \",valorProduto1,\"R$\")\n",
    "\n",
    "#O segundo produto é menor que o primeiro produto e o segundo produto é menor que o terceiro produto:\n",
    "elif valorProduto2 < valorProduto1 and valorProduto2 < valorProduto3:\n",
    " print(\"Você deve comprar o segundo produto que custa: \",valorProduto2,\"R$\")\n",
    "\n",
    "#O terceiro produto é menor que o primeiro produto e o terceiro produto é menor que o segundo produto:  \n",
    "elif valorProduto3 < valorProduto1 and valorProduto3 < valorProduto2 :\n",
    "     print(\"Você deve comprar o terceiro produto que custa: \",valorProduto3,\"R$\")\n",
    "\n",
    "    "
   ]
  },
  {
   "cell_type": "code",
   "execution_count": 3,
   "metadata": {},
   "outputs": [
    {
     "name": "stdout",
     "output_type": "stream",
     "text": [
      "O maior número é:  35.0\n",
      "O menor número é:  20.0\n",
      "Em ordem decrescente:  35.0 22.0 20.0\n"
     ]
    }
   ],
   "source": [
    "#3.Faça um programa que leia três números e mostre-os em ordem decrescente\n",
    "\n",
    "num1 = float(input(\"Digite o primeiro número: \"))\n",
    "num2 = float(input(\"Digite o segundo número: \"))\n",
    "num3 = float(input(\"Digite o terceiro número: \"))\n",
    "\n",
    "\n",
    "# Verificar o maior número:\n",
    "maior = num1\n",
    "if num2 > maior: \n",
    "    maior = num2 # o maior é o número 2\n",
    "\n",
    "if num3 > maior:\n",
    "    maior = num3# o maior número é o número 3\n",
    "\n",
    "print(\"O maior número é: \", maior)\n",
    "\n",
    "#Verificar o menor número:\n",
    "menor = num1\n",
    "if num2 < menor:\n",
    "    menor = num2 # o número 2 é menor\n",
    "\n",
    "if num3 < menor:#\n",
    "    menor = num3 # o número 3 é o menor número\n",
    "    \n",
    "print(\"O menor número é: \", menor)\n",
    "\n",
    "\n",
    "#Verifica o número do meio \n",
    "numDoMeio = num1 + num2 + num3 - maior - menor #Número1 + número2 + número3 - maior número - menor número \n",
    "\n",
    "print(\"Em ordem decrescente: \", maior, numDoMeio, menor)\n",
    "\n",
    "\n"
   ]
  },
  {
   "cell_type": "code",
   "execution_count": 4,
   "metadata": {},
   "outputs": [
    {
     "name": "stdout",
     "output_type": "stream",
     "text": [
      "Boa noite!\n"
     ]
    }
   ],
   "source": [
    "#4.Faça um programa que pergunte que turno você estuda. Peça para digitar M-matutino ou V-vespertino ou N-noturno. Imprima a mensagem\n",
    "#\"bom dia!\" ou \"Boa tarde!\" ou \"boa noite\"\n",
    "turno = str(input(\"Olá! Em qual turno você estuda?\"))\n",
    "\n",
    "if turno == \"M\": \n",
    "    print(\"Bom dia!\")\n",
    "    \n",
    "elif turno ==\"V\":\n",
    "    print(\"Boa tarde!\")\n",
    "    \n",
    "elif turno ==\"N\":\n",
    "    print(\"Boa noite!\")\n",
    "else:\n",
    "    print(\"Digite um turno válido.\")"
   ]
  },
  {
   "cell_type": "code",
   "execution_count": 5,
   "metadata": {},
   "outputs": [
    {
     "name": "stdout",
     "output_type": "stream",
     "text": [
      "Você escolheu a \"Sexta\"\n"
     ]
    }
   ],
   "source": [
    "#5.Faça um programa que leia um número e exiba o dia correspondente da semana(1-Domingo, 2-Segunda, etc.). Se for digitado outro valor deve retornar uma mensagem informando \"valor inválido\":\n",
    "\n",
    "diaSemana = int(input(\"digite um dia da semana( 1=Domingo, 2=Segunda, 3=Terça, 4=Quarta, 5=Quinta, 6= Sexta, 7= Sabádo\"))\n",
    "\n",
    "if  diaSemana == 1:\n",
    "    print('Você escolheu o \"Domingo\"')\n",
    "\n",
    "elif diaSemana == 2:\n",
    "    print('Você escolheu a \"Segunda\"') \n",
    "    \n",
    "elif diaSemana == 3:\n",
    "    print('Você escolheu a \"Terça\"')  \n",
    "    \n",
    "elif diaSemana == 4:\n",
    "    print('Você escolheu a \"Quarta\"')  \n",
    "    \n",
    "elif diaSemana == 5:\n",
    "    print('Você escolheu a \"Quinta\"')  \n",
    "    \n",
    "elif diaSemana == 6:\n",
    "    print('Você escolheu a \"Sexta\"')   \n",
    "    \n",
    "elif diaSemana == 7:\n",
    "    print('Você escolheu a \"Sabádo\"')  \n",
    "    \n",
    "else:\n",
    "    print(\"Valor inválido\")"
   ]
  },
  {
   "cell_type": "code",
   "execution_count": 6,
   "metadata": {},
   "outputs": [
    {
     "name": "stdout",
     "output_type": "stream",
     "text": [
      "Sua primeira nota foi: 8.0 ,sua segunda nota foi: 6.0 ,sua média foi: 7.0 , seu conceito foi 'C' e você foi aprovado(a)!\n"
     ]
    }
   ],
   "source": [
    "#6. Faça um programa que lê as duas notas parciais obtidas por um aluno numa disciplina ao longo de um semestre, e calcule a sua média.\n",
    "#O programa deve mostrar na tela as notas, a média, o conceito correspondente e a mensagem \"Aprovado\" se o conceito for A, B ou C ou \"Reprovado se o conceito for D ou E\"\n",
    "nota1 = float(input(\"Digite a primeira nota:\"))\n",
    "nota2 = float(input(\"Digite a segunda nota: \"))\n",
    "\n",
    "media = (nota1 + nota2)/ 2\n",
    "\n",
    "# a média está entre 9.0  e 10.0 ?\n",
    "if media >= 9.0 and media <=10.0 :\n",
    "   print(\"Sua primeira nota foi:\", nota1, \",sua segunda nota foi:\", nota2 ,\",sua média foi:\", media ,\", seu conceito foi 'A' e você foi aprovado(a)!\" )\n",
    "\n",
    "#a média está entre 7.5 e 9.0?\n",
    "elif media >= 7.5 and media <= 9.0:\n",
    "     print(\"Sua primeira nota foi:\", nota1, \",sua segunda nota foi:\", nota2 ,\",sua média foi:\", media ,\", seu conceito foi 'B' e você foi aprovado(a)!\" )\n",
    "\n",
    "#a média está entre 6.0 e 7.5?\n",
    "elif media >= 6.0 and media <= 7.5 :\n",
    " print(\"Sua primeira nota foi:\", nota1, \",sua segunda nota foi:\", nota2 ,\",sua média foi:\", media ,\", seu conceito foi 'C' e você foi aprovado(a)!\" )\n",
    "\n",
    "# a média está entre  4.0 e 6.0?\n",
    "elif media >= 4.0 and media <= 6.0:\n",
    "     print(\"Sua primeira nota foi:\", nota1, \",sua segunda nota foi:\", nota2 ,\",sua média foi:\", media ,\", seu conceito foi 'D' e você foi reprovado(a)!\" )\n",
    "\n",
    "#a média está entre 4.0 e 0?\n",
    "elif media >= 4.0 and media <= 0:\n",
    " print(\"Sua primeira nota foi:\", nota1, \",sua segunda nota foi:\", nota2 ,\",sua média foi:\", media ,\", seu conceito foi 'E' e você foi reprovado(a)!\" )"
   ]
  },
  {
   "cell_type": "code",
   "execution_count": 7,
   "metadata": {},
   "outputs": [
    {
     "name": "stdout",
     "output_type": "stream",
     "text": [
      "O ano de 2024 é bissexto\n"
     ]
    }
   ],
   "source": [
    "#7.Faça um programa que peça um número correspondente a um determinado ano e em seguida informe se este ano é ou nao bissexto.\n",
    " \n",
    "ano = int(input(\"Digite um ano \"))\n",
    "if ano % 4 == 0 and ano % 100 != 0 or ano % 400 == 0: #o número é divisel por 4? e o número não é divisível por 100 ou o número é divisel por 400?\n",
    "    print(\"O ano de\",ano,\"é bissexto\")\n",
    " \n",
    "else:\n",
    "      print(\"O ano de\",ano,\"não é bissexto\")"
   ]
  },
  {
   "cell_type": "code",
   "execution_count": 9,
   "metadata": {},
   "outputs": [
    {
     "name": "stdout",
     "output_type": "stream",
     "text": [
      "O resultado da operação é: -8.5\n",
      "O primeiro número ( 2.0 ) é  par , positivo e  inteiro .\n",
      "O segundo número ( -10.5 ) é  impar , negativo e  decimal .\n"
     ]
    }
   ],
   "source": [
    "#8. Faça um programa que leia dois números e em seguida pergunte ao usuário qual operação básica ele deseja realizar. O reusltado da operação deve ser acompanhado de uma frase que diga se o número é: par ou impar, positivo e negativo, inteiro ou decimal.\n",
    "\n",
    "num1 = float(input(\"Digite o primeiro número: \"))\n",
    "num2 = float(input(\"Digite o segundo número: \"))\n",
    "operacao = input(\"Digite a operação: (+, -, *, /, **)\")\n",
    "\n",
    "# par ou impar?\n",
    "\n",
    "if num1 % 2 == 0: \n",
    "    num1_Tipo=\"par\"\n",
    "else:\n",
    "    num1_Tipo = \"impar\"\n",
    "    \n",
    "if num2 % 2 == 0:\n",
    "    num2_Tipo=\"par\"\n",
    "else:\n",
    "    num2_Tipo = \"impar\"\n",
    "    \n",
    "#positivo ou negativo?\n",
    "\n",
    "if num1 >= 0: \n",
    " num1_Sinal = \"positivo\"\n",
    "else:\n",
    "    num1_Sinal = \"negativo\"\n",
    "    \n",
    "\n",
    "if num2 >= 0:\n",
    " num2_Sinal = \"positivo\"\n",
    "else:\n",
    "    num2_Sinal = \"negativo\"\n",
    "    \n",
    "    \n",
    "    #inteiro ou decimal?\n",
    "if num1 % 1 == 0: \n",
    "    num1_Inteiro = \"inteiro\"\n",
    "else:\n",
    "    num1_Inteiro = \"decimal\"\n",
    "\n",
    "if num2 % 1 == 0:\n",
    "    num2_Inteiro = \"inteiro\"\n",
    "else:\n",
    "    num2_Inteiro = \"decimal\"\n",
    "    \n",
    "#as operações \n",
    "if operacao == \"+\":\n",
    "    resultado = num1 + num2\n",
    "elif operacao == \"-\":\n",
    "    resultado = num1 - num2\n",
    "elif operacao == \"*\":\n",
    "    resultado = num1 * num2\n",
    "elif operacao == \"/\":\n",
    "    resultado = num1 / num2\n",
    "elif operacao == \"**\":\n",
    "    resultado = num1 ** num2\n",
    "else:\n",
    "    print(\"Operação inválida.\")\n",
    "    \n",
    "    #O resultado\n",
    "\n",
    "print(\"O resultado da operação é:\", resultado)\n",
    "print(\"O primeiro número (\",num1,\") é \",num1_Tipo,\",\", num1_Sinal, \"e \",num1_Inteiro,\".\")\n",
    "print(\"O segundo número (\",num2,\") é \",num2_Tipo,\",\", num2_Sinal, \"e \",num2_Inteiro,\".\")\n",
    "\n",
    "    "
   ]
  },
  {
   "cell_type": "code",
   "execution_count": 10,
   "metadata": {},
   "outputs": [
    {
     "name": "stdout",
     "output_type": "stream",
     "text": [
      "valor inválido\n"
     ]
    }
   ],
   "source": [
    "#9. Faça um programa que peça a idade e exiba a informação. Os valores aceitáveis devem estar entre 0 e 150. Valores fora desse limite não poderão ser aceitos\n",
    "idade = int(input(\"Digite a sua idade: \"))\n",
    "\n",
    "#entre 0 e 150 \n",
    "if idade >= 0 and idade <=150: \n",
    "    print(f'Valor aceito! sua idade é {idade}')\n",
    "else:\n",
    "    print('valor inválido')"
   ]
  },
  {
   "cell_type": "code",
   "execution_count": 11,
   "metadata": {},
   "outputs": [
    {
     "name": "stdout",
     "output_type": "stream",
     "text": [
      "A soma dos números é: 28.0  e a media é: 5.6\n"
     ]
    }
   ],
   "source": [
    "#10. Utilizando estruturas de repetição e listas(com ou sem .append) faça um programa que leia 5 números e informe a soma e a média dos números \n",
    "\n",
    "#lista para armazenar os números digitados pelo usuário\n",
    "numeros = []\n",
    "\n",
    "#Loop para ler os cinco números \n",
    "for num in range(5): \n",
    "    numero = float(input(f'Digite o { num + 1} número: '))\n",
    "    numeros.append(numero)\n",
    "    \n",
    "\n",
    "#a soma\n",
    "soma = 0 \n",
    "for numero in numeros:\n",
    "    soma = soma + numero\n",
    "    \n",
    "# a media\n",
    "media = soma / len(numeros)\n",
    "\n",
    "#o resultado\n",
    "print(\"A soma dos números é:\" ,soma,\" e a media é:\",media)\n",
    "\n",
    "\n"
   ]
  },
  {
   "cell_type": "code",
   "execution_count": 12,
   "metadata": {},
   "outputs": [
    {
     "name": "stdout",
     "output_type": "stream",
     "text": [
      "O número 7 é primo.\n"
     ]
    }
   ],
   "source": [
    "#11. Faça um programa que peça um número inteiro e determine se ele é ou não um número primo. \n",
    "numero = int(input(\"Digite um número\"))\n",
    " \n",
    "if numero == 2 or numero == 3 or numero == 5 or numero == 7:\n",
    "    print(\"O número\", numero,\"é primo.\")\n",
    " \n",
    "elif numero % 2 == 0 or numero % 3 == 0  or numero % 5 == 0 or numero == 49: #\n",
    "    print(\" O número\", numero,\"não é primo.\")\n",
    " \n",
    "else:\n",
    "    print(\"O número é primo.\")\n",
    "\n"
   ]
  },
  {
   "cell_type": "code",
   "execution_count": 13,
   "metadata": {},
   "outputs": [
    {
     "name": "stdout",
     "output_type": "stream",
     "text": [
      "A maior temperatura é: 33.0 , a menor temperatura é:  21.0  e a média das temperaturas é: 26.6\n"
     ]
    }
   ],
   "source": [
    "#12. Um Departamento Estadual de tecnologia lhe contratou para desenvolver um programa que leia 5 temperaturas, e informe ao final  a menor e a maior temperaturas informadas, bem com o a média das temperaturas\n",
    "temperatura1 = float(input(\"Digite a primeira temperatura\"))\n",
    "temperatura2 = float(input(\"Digite a segunda temperatura\"))\n",
    "temperatura3 = float(input(\"Digite a terceira temperatura\"))\n",
    "temperatura4 = float(input(\"Digite a quarta temperatura\"))\n",
    "temperatura5 = float(input(\"Digite a quinta temperatura\"))\n",
    "\n",
    "#A maior temperatura:\n",
    "maior = temperatura1\n",
    "if temperatura2 > maior: \n",
    "    maior = temperatura2 \n",
    "\n",
    "if temperatura3 > maior: \n",
    "    maior = temperatura3\n",
    "\n",
    "if temperatura4> maior: \n",
    "    maior = temperatura4 \n",
    "\n",
    "if temperatura5> maior: \n",
    "    maior = temperatura5 \n",
    "\n",
    "\n",
    "#A menor temperatura:\n",
    "menor = temperatura1\n",
    "if temperatura2 < menor: \n",
    "    menor= temperatura2  \n",
    "\n",
    "if temperatura3 < menor:  \n",
    "    menor= temperatura3  \n",
    "\n",
    "if temperatura4 < menor:  \n",
    "    menor = temperatura4  \n",
    "\n",
    "if temperatura5 < menor: \n",
    "    menor = temperatura5\n",
    "    \n",
    "#A média:\n",
    "media = (temperatura1 + temperatura2 + temperatura3 + temperatura4 + temperatura5)/5\n",
    "\n",
    "print(\"A maior temperatura é:\", maior, \", a menor temperatura é: \", menor,\" e a média das temperaturas é:\", media,)\n",
    "\n"
   ]
  },
  {
   "cell_type": "code",
   "execution_count": 14,
   "metadata": {},
   "outputs": [
    {
     "name": "stdout",
     "output_type": "stream",
     "text": [
      "o seu saldo é de: 398.0 E o seu crédito é de: 79.6\n"
     ]
    }
   ],
   "source": [
    "#13. Um banco concederá um crédito especial aos seus clientes, variável com saldo médio no último ano. Faça um algoritmo que leia o saldo médio de um cliente e calcule o valor do crédito. Mostre uma mensagem informando o saldo médio e o valor do crédito.\n",
    "\n",
    "saldoMedio = float(input(\"Digite o seu saldo médio\"))\n",
    "\n",
    "#saldo médio está entre 0 e 200?\n",
    "if saldoMedio >= 0 and saldoMedio <= 200:\n",
    "    print(\"nenhum crédito\")\n",
    "\n",
    "#Saldo médio está entre 201 e 400?\n",
    "elif saldoMedio >= 201 and saldoMedio <=400:\n",
    "    credito = saldoMedio *20/100\n",
    "    print(\"o seu saldo é de:\", saldoMedio,\"E o seu crédito é de:\", credito )\n",
    "\n",
    "#Saldo médio está entre 401 e 600?\n",
    "elif saldoMedio >= 401 and saldoMedio <=600:\n",
    "    credito = saldoMedio *30/100\n",
    "    print(\"o seu saldo é de:\", saldoMedio,\"E o seu crédito é de:\", credito )\n",
    "    \n",
    "#Saldo médio é igual a 601?\n",
    "elif saldoMedio == 601:\n",
    "     credito = saldoMedio * 40/100\n",
    "     print(\"o seu saldo é de:\", saldoMedio,\"E o seu crédito é de:\", credito )\n"
   ]
  },
  {
   "cell_type": "code",
   "execution_count": 15,
   "metadata": {},
   "outputs": [
    {
     "name": "stdout",
     "output_type": "stream",
     "text": [
      "Raissa ,você irá se aposentar no ano de 2072\n"
     ]
    }
   ],
   "source": [
    "#14. Você foi contratado(a) para fazer um serviço para o INSS. O trabalho consiste em criar um programa que diga a pessoa o ano que ela poderá se aposentar. Você deve perguntar a pessoa, o nome, a idade e criar uma mensagem \n",
    "\n",
    "nome = str(input(\"Digite o seu nome: \"))\n",
    "idade = int(input(\"Digite a sua idade: \"))\n",
    "\n",
    "\n",
    "#A idade menos a idade da aposentadoria\n",
    "idadeAposentadoria = 65 - idade\n",
    "\n",
    "# em qual ano o usuário irá se aposentar \n",
    "anosAposentadoria = 2024 + idadeAposentadoria\n",
    "\n",
    "print(nome,\",você irá se aposentar no ano de\",anosAposentadoria)"
   ]
  },
  {
   "cell_type": "code",
   "execution_count": 16,
   "metadata": {},
   "outputs": [
    {
     "name": "stdout",
     "output_type": "stream",
     "text": [
      "O salário Bruto: R$ 2000.0\n",
      "O desconto do imposto de renda: R$ 0\n",
      "O desconto do Sindicato: R$ 60.0\n",
      "FGTS: R$ 220.0\n",
      "O salario líquido: R$ 1940.0\n"
     ]
    }
   ],
   "source": [
    "#15. Faça um programa para o cálculo de uma folha de pagamento, sabendo que o desconto são do imposto de renda, que dependente do salário bruto\n",
    "valorHora = float(input(\"Digite o valor da sua hora de trabalho\"))\n",
    "quantidadeHoras = float(input(\"Digite a quantidade de horas trabalhadas\"))\n",
    "\n",
    "salarioBruto = valorHora * quantidadeHoras\n",
    "\n",
    "# Desconto do IR:\n",
    " \n",
    " # Salário Bruto até R$ 2.112,00(inclusive) - Isento;\n",
    "if salarioBruto <= 2112.00:\n",
    " descontoDoIr = 0\n",
    "\n",
    " \n",
    "# De 2.112,01 até 2.826,65(inclusive) - desconto de 7.5%;\n",
    "\n",
    "elif salarioBruto >=2112.00 and salarioBruto <= 2826.65:\n",
    "     descontoDoIr = salarioBruto * 7.5/100\n",
    " \n",
    "# De 2.826,66 até 3.751,05(inclusive) - desconto de 15%\n",
    "elif salarioBruto >=2826.66 and salarioBruto <= 3751.05:\n",
    "     descontoDoIr = salarioBruto * 15/100\n",
    " \n",
    "# De 3.751,06 até 4.664,68(inclusive) - desconto de 22.5%\n",
    "\n",
    "elif salarioBruto >=3751.06 and salarioBruto <= 4664.68:\n",
    "     descontoDoIr = salarioBruto * 22.5/100\n",
    " \n",
    "# Acima de 4.664,68-desconto de 27.5%\n",
    "elif salarioBruto >4664.68:\n",
    "     descontoDoIr = salarioBruto * 27.5/100\n",
    "\n",
    "# o desconto do sindicato\n",
    "\n",
    "#3 % para o sindicato \n",
    "descontoSindicato = salarioBruto * 3/100\n",
    "\n",
    "#o fgts\n",
    "#11% do salario bruto, corresponde ao fgts \n",
    "Fgts = salarioBruto * 11/100\n",
    "\n",
    "\n",
    "# O salário líquido corresponde ao salário bruto menos os descontos.\n",
    "salarioLiquido = salarioBruto - descontoDoIr - descontoSindicato\n",
    "\n",
    "print(\"O salário Bruto: R$\", salarioBruto) \n",
    "print(\"O desconto do imposto de renda: R$\", descontoDoIr) \n",
    "print(\"O desconto do Sindicato: R$\", descontoSindicato)\n",
    "print(\"FGTS: R$\", Fgts)\n",
    "print(\"O salario líquido: R$\", salarioLiquido)"
   ]
  }
 ],
 "metadata": {
  "kernelspec": {
   "display_name": "Python 3",
   "language": "python",
   "name": "python3"
  },
  "language_info": {
   "codemirror_mode": {
    "name": "ipython",
    "version": 3
   },
   "file_extension": ".py",
   "mimetype": "text/x-python",
   "name": "python",
   "nbconvert_exporter": "python",
   "pygments_lexer": "ipython3",
   "version": "3.11.9"
  }
 },
 "nbformat": 4,
 "nbformat_minor": 2
}
