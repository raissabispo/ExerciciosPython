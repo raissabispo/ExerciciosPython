{
 "cells": [
  {
   "cell_type": "markdown",
   "metadata": {},
   "source": [
    "ORIENTAÇÃO A OBJETOS:"
   ]
  },
  {
   "cell_type": "markdown",
   "metadata": {},
   "source": [
    "Petshop:"
   ]
  },
  {
   "cell_type": "code",
   "execution_count": 54,
   "metadata": {},
   "outputs": [
    {
     "name": "stdout",
     "output_type": "stream",
     "text": [
      "Nome: Toby \n",
      "Peso: 7.9\n",
      "Cor: bege\n",
      "Au, Au!\n",
      "Nome: Tico \n",
      "Peso: 4.5\n",
      "Cor: Rajado\n",
      "Miau!\n"
     ]
    }
   ],
   "source": [
    "\n",
    "class animal(): #padronizar objetos comuns\n",
    "\n",
    "    #método construtor(especificar)\n",
    "    def __init__(self, name, weight, color): #parametros\n",
    "        #atributos do objeto(animal)\n",
    "        self.nome = name \n",
    "        self.peso = weight\n",
    "        self.corDoPelo = color\n",
    "\n",
    "#As funções são comuns\n",
    "    def imprimirDados(self): \n",
    "        return(\"Nome: %s \\nPeso: %s\\nCor: %s\" %(self.nome, self.peso, self.corDoPelo))\n",
    "    \n",
    "    def latir(self, barulho):\n",
    "        print(barulho)\n",
    "\n",
    "    def miar(self, barulho):\n",
    "        print(barulho)\n",
    "\n",
    "#instanciar: trazer a classe guardando um novo valor\n",
    "# instanciando um objeto cachorro\n",
    "\n",
    "caozinho = animal(\"Toby\", 7.9, \"bege\")\n",
    "gato = animal(\"Tico\", 4.5, \"Rajado\")\n",
    "\n",
    "#Chamando o método do objeto criado\n",
    "\n",
    "print(caozinho.imprimirDados())\n",
    "caozinho.latir(\"Au, Au!\")\n",
    "\n",
    "print(gato.imprimirDados())\n",
    "gato.miar(\"Miau!\")\n",
    "   \n",
    "\n",
    "    "
   ]
  },
  {
   "cell_type": "markdown",
   "metadata": {},
   "source": [
    "Livraria:"
   ]
  },
  {
   "cell_type": "code",
   "execution_count": 43,
   "metadata": {},
   "outputs": [
    {
     "name": "stdout",
     "output_type": "stream",
     "text": [
      "Construtor chamado para criar um objeto desta classe\n",
      "Foi criado o livro: Anne de Green Gables e ISBN: 9988888 \n"
     ]
    }
   ],
   "source": [
    "class Livro(): #Cadastrar cada livro \n",
    "     def __init__(self):\n",
    "        self.titulo = 'Anne de Green Gables'\n",
    "        self.isbn = 9988888\n",
    "        print(\"Construtor chamado para criar um objeto desta classe\")\n",
    "\n",
    "     def imprime(self):\n",
    "        print(\"Foi criado o livro %s e ISBN %d \" %(self.titulo, self.isbn))\n",
    "\n",
    "      \n",
    "   #Criando a instância\n",
    "Livro1 = Livro()\n",
    "Livro1.imprime()\n",
    "\n",
    "\n",
    "\n",
    "\n",
    "  \n",
    "\n",
    "    "
   ]
  },
  {
   "cell_type": "code",
   "execution_count": 56,
   "metadata": {},
   "outputs": [
    {
     "data": {
      "text/plain": [
       "'Harry Potter e a pedra filosofal'"
      ]
     },
     "execution_count": 56,
     "metadata": {},
     "output_type": "execute_result"
    }
   ],
   "source": [
    "class Livro():\n",
    "    def __init__(self, titulo, isbn):\n",
    "        self.titulo = titulo\n",
    "        self.isbn = isbn\n",
    "\n",
    "    def imprime(self, titulo, isbn):\n",
    "        print(\"Foi criado o livro %s e ISBN %d \" %(titulo, isbn))\n",
    "\n",
    "\n",
    "Livro2 = Livro(\"Harry Potter e a pedra filosofal\", 19999)\n",
    "Livro2.titulo\n",
    "\n",
    "\n",
    "\n",
    "\n",
    "\n",
    "\n",
    "\n"
   ]
  }
 ],
 "metadata": {
  "kernelspec": {
   "display_name": "Python 3",
   "language": "python",
   "name": "python3"
  },
  "language_info": {
   "codemirror_mode": {
    "name": "ipython",
    "version": 3
   },
   "file_extension": ".py",
   "mimetype": "text/x-python",
   "name": "python",
   "nbconvert_exporter": "python",
   "pygments_lexer": "ipython3",
   "version": "3.11.9"
  }
 },
 "nbformat": 4,
 "nbformat_minor": 2
}
