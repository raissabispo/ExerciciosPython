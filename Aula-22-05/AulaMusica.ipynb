{
 "cells": [
  {
   "cell_type": "markdown",
   "metadata": {},
   "source": [
    "DESAFIO 22/05"
   ]
  },
  {
   "cell_type": "code",
   "execution_count": 12,
   "metadata": {},
   "outputs": [
    {
     "name": "stdout",
     "output_type": "stream",
     "text": [
      "5 patinhos foram passear além das montanhas para brincar a mamãe gritou: Quá, Quá, Quá, Quá, mas só 4 voltaram de lá\n",
      "4 patinhos foram passear além das montanhas para brincar a mamãe gritou: Quá, Quá, Quá, Quá, mas só 3 voltaram de lá\n",
      "3 patinhos foram passear além das montanhas para brincar a mamãe gritou: Quá, Quá, Quá, Quá, mas só 2 voltaram de lá\n",
      "2 patinhos foram passear além das montanhas para brincar a mamãe gritou: Quá, Quá, Quá, Quá, mas só 1 voltaram de lá\n",
      "1 patinho foi passear além das montanhas para brincar a mamãe gritou: Quá, Quá, Quá, Quá, mas nenhum patinho voltou de lá\n"
     ]
    }
   ],
   "source": [
    "#Patinhos\n",
    "for patinhos in [5,4,3,2,1]:\n",
    "     \n",
    " if patinhos == 1:\n",
    "    print( patinhos,\"patinho foi passear além das montanhas para brincar a mamãe gritou: Quá, Quá, Quá, Quá, mas nenhum patinho voltou de lá\")\n",
    " else:\n",
    "     print( patinhos,\"patinhos foram passear além das montanhas para brincar a mamãe gritou: Quá, Quá, Quá, Quá, mas só\", patinhos-1,\"voltaram de lá\")\n",
    "\n",
    "\n"
   ]
  },
  {
   "cell_type": "code",
   "execution_count": 30,
   "metadata": {},
   "outputs": [
    {
     "name": "stdout",
     "output_type": "stream",
     "text": [
      "1 elefante incomoda muita gente\n",
      "2 elefantes  incomodam incomodam  muito mais\n",
      "3 elefantes incomodam muita gente\n",
      "4 elefantes  incomodam incomodam incomodam incomodam  muito mais\n",
      "5 elefantes incomodam muita gente\n",
      "6 elefantes  incomodam incomodam incomodam incomodam incomodam incomodam  muito mais\n",
      "7 elefantes incomodam muita gente\n",
      "8 elefantes  incomodam incomodam incomodam incomodam incomodam incomodam incomodam incomodam  muito mais\n",
      "9 elefantes incomodam muita gente\n",
      "10 elefantes  incomodam incomodam incomodam incomodam incomodam incomodam incomodam incomodam incomodam incomodam  muito mais\n"
     ]
    }
   ],
   "source": [
    "#Elefantes\n",
    "for elefantes in [1,2,3,4,5,6,7,8,9,10]:\n",
    "  incomodam = \"incomodam \"\n",
    "  if elefantes % 2 == 0:\n",
    "    print(elefantes,\"elefantes \", elefantes * incomodam,\"muito mais\")\n",
    "  elif elefantes == 1:\n",
    "    print(elefantes,\"elefante incomoda muita gente\")\n",
    "  else:\n",
    "   print(elefantes,\"elefantes incomodam muita gente\")"
   ]
  },
  {
   "cell_type": "code",
   "execution_count": 44,
   "metadata": {},
   "outputs": [
    {
     "name": "stdout",
     "output_type": "stream",
     "text": [
      "10 elefantes incomodam muita gente\n",
      "9 elefantes incomodam incomodam incomodam incomodam incomodam incomodam incomodam incomodam incomodam  muito menos\n",
      "8 elefantes incomodam muita gente\n",
      "7 elefantes incomodam incomodam incomodam incomodam incomodam incomodam incomodam  muito menos\n",
      "6 elefantes incomodam muita gente\n",
      "5 elefantes incomodam incomodam incomodam incomodam incomodam  muito menos\n",
      "4 elefantes incomodam muita gente\n",
      "3 elefantes incomodam incomodam incomodam  muito menos\n",
      "2 elefantes incomodam muita gente\n",
      "1 elefante incomoda  muito menos\n"
     ]
    }
   ],
   "source": [
    "#Elefantes(invertido)\n",
    "for elefantes in [10,9,8,7,6,5,4,3,2,1]:\n",
    "    incomodam = \"incomodam \"\n",
    "    if elefantes == 1:\n",
    "     print(elefantes,\"elefante\", elefantes * incomodam,\"muito menos\")\n",
    "\n",
    "    elif elefantes % 2 != 0:\n",
    "     print(elefantes,\"elefantes\", elefantes * incomodam,\"muito menos\")\n",
    "    \n",
    "\n",
    "    else:\n",
    "     print(elefantes,\"elefantes incomodam muita gente\")\n",
    "\n",
    "     \n",
    "    "
   ]
  },
  {
   "cell_type": "code",
   "execution_count": 8,
   "metadata": {},
   "outputs": [
    {
     "name": "stdout",
     "output_type": "stream",
     "text": [
      "Mariana conta 1 Mariana conta 1 é 1 é 1 é Ana viva Mariana viva Mariana\n",
      "Mariana conta 2 Mariana conta 2 é [1, 2] é Ana viva Mariana viva Mariana\n",
      "Mariana conta 3 Mariana conta 3 é [1, 2, 3] é Ana viva Mariana viva Mariana\n",
      "Mariana conta 4 Mariana conta 4 é [1, 2, 3, 4] é Ana viva Mariana viva Mariana\n",
      "Mariana conta 5 Mariana conta 5 é [1, 2, 3, 4, 5] é Ana viva Mariana viva Mariana\n",
      "Mariana conta 6 Mariana conta 6 é [1, 2, 3, 4, 5, 6] é Ana viva Mariana viva Mariana\n",
      "Mariana conta 7 Mariana conta 7 é [1, 2, 3, 4, 5, 6, 7] é Ana viva Mariana viva Mariana\n",
      "Mariana conta 8 Mariana conta 8 é [1, 2, 3, 4, 5, 6, 7, 8] é Ana viva Mariana viva Mariana\n",
      "Mariana conta 9 Mariana conta 9 é [1, 2, 3, 4, 5, 6, 7, 8, 9] é Ana viva Mariana viva Mariana\n",
      "Mariana conta 10 Mariana conta 10 é [1, 2, 3, 4, 5, 6, 7, 8, 9, 10] é Ana viva Mariana viva Mariana\n"
     ]
    }
   ],
   "source": [
    "\n",
    "#Mariana\n",
    "mariana = [1,2,3,4,5,6,7,8,9,10]\n",
    "numero = 1\n",
    "for numero in mariana:\n",
    " if numero == 1:\n",
    "      print(\"Mariana conta\",numero,\"Mariana conta\",numero,\"é\",numero,\"é\",numero,\"é Ana viva Mariana viva Mariana\")\n",
    " else:\n",
    "  print(\"Mariana conta\",numero,\"Mariana conta\",numero,\"é\",mariana[0:numero],\"é Ana viva Mariana viva Mariana\")    "
   ]
  }
 ],
 "metadata": {
  "kernelspec": {
   "display_name": "Python 3",
   "language": "python",
   "name": "python3"
  },
  "language_info": {
   "codemirror_mode": {
    "name": "ipython",
    "version": 3
   },
   "file_extension": ".py",
   "mimetype": "text/x-python",
   "name": "python",
   "nbconvert_exporter": "python",
   "pygments_lexer": "ipython3",
   "version": "3.11.9"
  }
 },
 "nbformat": 4,
 "nbformat_minor": 2
}
