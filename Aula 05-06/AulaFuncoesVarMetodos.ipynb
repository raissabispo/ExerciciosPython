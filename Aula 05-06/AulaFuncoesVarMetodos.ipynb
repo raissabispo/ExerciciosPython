{
 "cells": [
  {
   "cell_type": "markdown",
   "metadata": {},
   "source": [
    "Funções e Metódos: (def)"
   ]
  },
  {
   "cell_type": "code",
   "execution_count": 26,
   "metadata": {},
   "outputs": [
    {
     "name": "stdout",
     "output_type": "stream",
     "text": [
      "Número 1\n",
      "Número 2\n",
      "Número 3\n",
      "Número 4\n",
      "Número 5\n"
     ]
    }
   ],
   "source": [
    "def funcaoLeitura():#O nome das funcao é: funcaoLeitura\n",
    "    for num in [1,2,3,4,5]: #Com listas\n",
    "        print(\"Número\", num) \n",
    "        \n",
    "funcaoLeitura()#Chamando a funcao"
   ]
  },
  {
   "cell_type": "code",
   "execution_count": 12,
   "metadata": {},
   "outputs": [
    {
     "data": {
      "text/plain": [
       "range(0, 5)"
      ]
     },
     "execution_count": 12,
     "metadata": {},
     "output_type": "execute_result"
    }
   ],
   "source": [
    "range(5)# função Range = funcao que conta a quantidade que esta no parenteses"
   ]
  },
  {
   "cell_type": "code",
   "execution_count": 1,
   "metadata": {},
   "outputs": [
    {
     "name": "stdout",
     "output_type": "stream",
     "text": [
      "Número 0\n",
      "Número 1\n",
      "Número 2\n",
      "Número 3\n",
      "Número 4\n"
     ]
    }
   ],
   "source": [
    "#Funcao sem parametros\n",
    "def funcaoLeitura():#O nome das funcao é: funcaoLeitura\n",
    "    for num in range(5): \n",
    "        print(\"Número\", num) \n",
    "        \n",
    "funcaoLeitura()#Chamando a funcao"
   ]
  },
  {
   "cell_type": "code",
   "execution_count": 9,
   "metadata": {},
   "outputs": [
    {
     "name": "stdout",
     "output_type": "stream",
     "text": [
      "O primeiro número é:  2\n",
      "O segundo número é:  3\n",
      "A soma número é:  5\n"
     ]
    }
   ],
   "source": [
    "#Funcao com parametros\n",
    "#Somar dois números\n",
    "def addNum(n1, n2):\n",
    "    print(\"O primeiro número é: \", n1)\n",
    "    print(\"O segundo número é: \", n2)\n",
    "    print(\"A soma número é: \", n1 + n2)\n",
    "\n",
    "addNum(2, 3)#Chamando a funcao passando os parametros\n",
    "    "
   ]
  },
  {
   "cell_type": "code",
   "execution_count": 27,
   "metadata": {},
   "outputs": [
    {
     "name": "stdout",
     "output_type": "stream",
     "text": [
      "O primeiro número é:  4\n",
      "O segundo número é:  3\n",
      "A soma número é:  7\n"
     ]
    }
   ],
   "source": [
    "addNum(4,3)"
   ]
  },
  {
   "cell_type": "code",
   "execution_count": 10,
   "metadata": {},
   "outputs": [
    {
     "ename": "TypeError",
     "evalue": "addNum() missing 2 required positional arguments: 'n1' and 'n2'",
     "output_type": "error",
     "traceback": [
      "\u001b[1;31m---------------------------------------------------------------------------\u001b[0m",
      "\u001b[1;31mTypeError\u001b[0m                                 Traceback (most recent call last)",
      "Cell \u001b[1;32mIn[10], line 1\u001b[0m\n\u001b[1;32m----> 1\u001b[0m \u001b[43maddNum\u001b[49m\u001b[43m(\u001b[49m\u001b[43m)\u001b[49m\n",
      "\u001b[1;31mTypeError\u001b[0m: addNum() missing 2 required positional arguments: 'n1' and 'n2'"
     ]
    }
   ],
   "source": [
    "#Não passou os parâmetros\n",
    "addNum() "
   ]
  },
  {
   "cell_type": "markdown",
   "metadata": {},
   "source": [
    "Variáveis Locais e Globais:"
   ]
  },
  {
   "cell_type": "code",
   "execution_count": 18,
   "metadata": {},
   "outputs": [
    {
     "name": "stdout",
     "output_type": "stream",
     "text": [
      "Variável da função Multiplica:  20\n",
      "10\n"
     ]
    }
   ],
   "source": [
    "varGlobal = 10 #Essa é uma variavel global\n",
    "def multiplicaco(num1 , num2):\n",
    "    varGlobal = (num1 * num2)#variável local\n",
    "    print(\"Variável da função Multiplica: \", varGlobal)\n",
    "\n",
    "multiplicaco(5, 4)\n",
    "print(varGlobal)\n",
    "\n",
    "    "
   ]
  },
  {
   "cell_type": "code",
   "execution_count": 30,
   "metadata": {},
   "outputs": [
    {
     "name": "stdout",
     "output_type": "stream",
     "text": [
      "Variável da função Multiplica:  20\n",
      "A Variável local é: 20\n",
      "A Variável Global é: 10\n"
     ]
    }
   ],
   "source": [
    "varGlobal = 10 #Essa é uma variavel global\n",
    "def multiplicaco(num1 , num2):\n",
    "    varLocal = (num1 * num2)#variável local\n",
    "    print(\"Variável da função Multiplica: \", varLocal)\n",
    "    print(\"A Variável local é:\", varLocal)\n",
    "\n",
    "multiplicaco(5, 4)\n",
    "print(\"A Variável Global é:\", varGlobal)\n",
    "\n"
   ]
  },
  {
   "cell_type": "code",
   "execution_count": 24,
   "metadata": {},
   "outputs": [
    {
     "name": "stdout",
     "output_type": "stream",
     "text": [
      "Variável da função Multiplica:  20\n"
     ]
    }
   ],
   "source": [
    "#Variavel local\n",
    "def multiplicaco(num1 , num2):\n",
    "    varLocal = (num1 * num2)#variável local: começa a existir dentro da função\n",
    "    print(\"Variável da função Multiplica: \", varLocal)\n",
    "    \n",
    "multiplicaco(5, 4)#Chamando a função\n"
   ]
  },
  {
   "cell_type": "code",
   "execution_count": 25,
   "metadata": {},
   "outputs": [
    {
     "ename": "NameError",
     "evalue": "name 'varLocal' is not defined",
     "output_type": "error",
     "traceback": [
      "\u001b[1;31m---------------------------------------------------------------------------\u001b[0m",
      "\u001b[1;31mNameError\u001b[0m                                 Traceback (most recent call last)",
      "Cell \u001b[1;32mIn[25], line 1\u001b[0m\n\u001b[1;32m----> 1\u001b[0m \u001b[38;5;28mprint\u001b[39m(\u001b[43mvarLocal\u001b[49m)\n",
      "\u001b[1;31mNameError\u001b[0m: name 'varLocal' is not defined"
     ]
    }
   ],
   "source": [
    "print(varLocal)# A variável é local e não pode ser imprimida fora da função"
   ]
  },
  {
   "cell_type": "markdown",
   "metadata": {},
   "source": [
    "Criando funções com outras funções:"
   ]
  },
  {
   "cell_type": "code",
   "execution_count": 32,
   "metadata": {},
   "outputs": [],
   "source": [
    "def separarTexto(texto):\n",
    "    return texto.split() #Metódo Split"
   ]
  },
  {
   "cell_type": "code",
   "execution_count": 34,
   "metadata": {},
   "outputs": [
    {
     "data": {
      "text/plain": [
       "['Cibele', 'Maria', 'Suely']"
      ]
     },
     "execution_count": 34,
     "metadata": {},
     "output_type": "execute_result"
    }
   ],
   "source": [
    "separarTexto(\"Cibele Maria Suely\")"
   ]
  },
  {
   "cell_type": "code",
   "execution_count": 38,
   "metadata": {},
   "outputs": [
    {
     "name": "stdout",
     "output_type": "stream",
     "text": [
      "Cibele Maria Suely\n"
     ]
    }
   ],
   "source": [
    "#Sem o return\n",
    "def separarTexto(texto):\n",
    "     texto.split() #Metódo Split\n",
    "     print(texto)\n",
    "separarTexto(\"Cibele Maria Suely\")\n"
   ]
  },
  {
   "cell_type": "code",
   "execution_count": 43,
   "metadata": {},
   "outputs": [],
   "source": [
    "#Quando não sabemos a quantidade de parâmetros bastar usar o \"*\"\n",
    "def variosParametros(*parametros):\n",
    "    for n, item in enumerate(parametros):#Duas variaveis para a funcao enumerate\n",
    "        print(\"Parâmetro\", n, item)\n",
    "    return"
   ]
  },
  {
   "cell_type": "code",
   "execution_count": 42,
   "metadata": {},
   "outputs": [
    {
     "name": "stdout",
     "output_type": "stream",
     "text": [
      "Parâmetro 0 Cibele\n",
      "Parâmetro 1 Suely\n",
      "Parâmetro 2 Raissa\n",
      "Parâmetro 3 Ilma\n",
      "Parâmetro 4 Larissa\n"
     ]
    }
   ],
   "source": [
    "variosParametros(\"Cibele\",\"Suely\", \"Raissa\", \"Ilma\",\"Larissa\")"
   ]
  },
  {
   "cell_type": "code",
   "execution_count": null,
   "metadata": {},
   "outputs": [],
   "source": []
  }
 ],
 "metadata": {
  "kernelspec": {
   "display_name": "Python 3",
   "language": "python",
   "name": "python3"
  },
  "language_info": {
   "codemirror_mode": {
    "name": "ipython",
    "version": 3
   },
   "file_extension": ".py",
   "mimetype": "text/x-python",
   "name": "python",
   "nbconvert_exporter": "python",
   "pygments_lexer": "ipython3",
   "version": "3.11.9"
  }
 },
 "nbformat": 4,
 "nbformat_minor": 2
}
