{
 "cells": [
  {
   "cell_type": "markdown",
   "metadata": {},
   "source": [
    " Exercicios Python | Lógica de programação"
   ]
  },
  {
   "cell_type": "code",
   "execution_count": 1,
   "metadata": {},
   "outputs": [
    {
     "name": "stdout",
     "output_type": "stream",
     "text": [
      "Olá, mundo!\n"
     ]
    }
   ],
   "source": [
    "print(\"Olá, mundo!\")"
   ]
  },
  {
   "cell_type": "code",
   "execution_count": 2,
   "metadata": {},
   "outputs": [
    {
     "name": "stdout",
     "output_type": "stream",
     "text": [
      "o número informado foi 2.0\n"
     ]
    }
   ],
   "source": [
    "numero = float(input(\"Digite um número: \"))\n",
    "print(\"o número informado foi\", numero)"
   ]
  },
  {
   "cell_type": "code",
   "execution_count": 3,
   "metadata": {},
   "outputs": [
    {
     "name": "stdout",
     "output_type": "stream",
     "text": [
      "o resultado da soma foi:  4.0\n"
     ]
    }
   ],
   "source": [
    "numero01 = float(input(\"Digite o primeiro número: \"))\n",
    "numero02 = float(input(\"Digite o segundo número: \"))\n",
    "\n",
    "soma= numero01 + numero02 \n",
    "print(\"o resultado da soma foi: \", soma)\n"
   ]
  },
  {
   "cell_type": "code",
   "execution_count": 5,
   "metadata": {},
   "outputs": [
    {
     "name": "stdout",
     "output_type": "stream",
     "text": [
      "A média das notas foi de:  4.75\n"
     ]
    }
   ],
   "source": [
    "nota1 = float(input(\"Digite a sua primeira nota: \"))\n",
    "nota2 = float(input(\"Digite a sua primeira nota: \"))\n",
    "nota3 = float(input(\"Digite a sua primeira nota: \"))\n",
    "nota4 = float(input(\"Digite a sua primeira nota: \"))\n",
    "\n",
    "media = (nota1 + nota2 + nota3 + nota4)/ 4 \n",
    "\n",
    "print(\"A média das notas foi de: \", media)"
   ]
  },
  {
   "cell_type": "code",
   "execution_count": 7,
   "metadata": {},
   "outputs": [
    {
     "name": "stdout",
     "output_type": "stream",
     "text": [
      "O valor em centimetros é de:  100.0\n"
     ]
    }
   ],
   "source": [
    "valorMetro = float(input(\"digite o valor em metros: \"))\n",
    "conversaoCm = valorMetro * 100\n",
    "\n",
    "print(\"O valor em centimetros é de: \",conversaoCm)"
   ]
  }
 ],
 "metadata": {
  "kernelspec": {
   "display_name": "Python 3",
   "language": "python",
   "name": "python3"
  },
  "language_info": {
   "codemirror_mode": {
    "name": "ipython",
    "version": 3
   },
   "file_extension": ".py",
   "mimetype": "text/x-python",
   "name": "python",
   "nbconvert_exporter": "python",
   "pygments_lexer": "ipython3",
   "version": "3.12.1"
  }
 },
 "nbformat": 4,
 "nbformat_minor": 2
}
