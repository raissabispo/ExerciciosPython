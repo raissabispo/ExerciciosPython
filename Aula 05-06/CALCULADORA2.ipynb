{
 "cells": [
  {
   "cell_type": "markdown",
   "metadata": {},
   "source": [
    "Calculadora:"
   ]
  },
  {
   "cell_type": "code",
   "execution_count": 10,
   "metadata": {},
   "outputs": [
    {
     "name": "stdout",
     "output_type": "stream",
     "text": [
      "*===================*\n",
      "| MENU DE OPERAÇÕES |\n",
      "| 1 - Somar         |\n",
      "| 2 - Subtrair      |\n",
      "| 3 - Multiplicar   |\n",
      "| 4 - Dividir       |\n",
      "| 5 - Elevar        |\n",
      "| 6 - Módulo        |\n",
      "| 0 - Sair          |\n",
      "*===================*\n",
      "O resultado do Módulo é:  0\n"
     ]
    }
   ],
   "source": [
    "\n",
    "\n",
    "def soma(n1, n2):\n",
    "    return n1 + n2\n",
    "\n",
    "def subtracao(n1, n2):\n",
    "    return n1 - n2\n",
    "\n",
    "def multiplicacao(n1, n2):\n",
    "    return n1 * n2\n",
    "\n",
    "def divisao(n1, n2):\n",
    "    return n1 / n2\n",
    "\n",
    "def Exponenciacao(n1,n2):\n",
    "    return n1 ** n2\n",
    "\n",
    "def Modulo(n1,n2):\n",
    "    return n1 % n2\n",
    "\n",
    "while True:\n",
    "    print(\"*===================*\")\n",
    "    print(\"| MENU DE OPERAÇÕES |\")\n",
    "    print(\"| 1 - Somar         |\")\n",
    "    print(\"| 2 - Subtrair      |\")\n",
    "    print(\"| 3 - Multiplicar   |\")\n",
    "    print(\"| 4 - Dividir       |\")\n",
    "    print(\"| 5 - Elevar        |\")\n",
    "    print(\"| 6 - Módulo        |\")\n",
    "    print(\"| 0 - Sair          |\")\n",
    "    print(\"*===================*\")\n",
    "\n",
    "    op = int(input())\n",
    "\n",
    "    if op == 0:\n",
    "     break\n",
    "\n",
    "    n1 = int(input(\"Primeiro numero\"))\n",
    "    n2 = int(input(\"Segundo numero\"))\n",
    "\n",
    "    if op == 1:\n",
    "        print(\"O resultado da Soma é: \", soma(n1,n2))\n",
    "        break\n",
    "    elif op ==2:\n",
    "         print(\"O resultado da Subtração é: \", subtracao(n1,n2))\n",
    "         break\n",
    "\n",
    "    elif op ==3:\n",
    "         print(\"O resultado da Multiplicação é: \", multiplicacao(n1,n2))\n",
    "         break\n",
    "\n",
    "    elif op ==4:\n",
    "         print(\"O resultado da Divisão é: \", divisao(n1,n2))\n",
    "         break\n",
    "    elif op == 5:\n",
    "         print(\"O resultado da Exponenciação é: \", Exponenciacao(n1,n2))\n",
    "         break\n",
    "     \n",
    "    elif op == 6:\n",
    "         print(\"O resultado do Módulo é: \", Modulo(n1,n2))\n",
    "         break\n",
    "    else:\n",
    "      print(\"Digite uma das opções \")\n",
    "\n",
    "   "
   ]
  }
 ],
 "metadata": {
  "kernelspec": {
   "display_name": "Python 3",
   "language": "python",
   "name": "python3"
  },
  "language_info": {
   "codemirror_mode": {
    "name": "ipython",
    "version": 3
   },
   "file_extension": ".py",
   "mimetype": "text/x-python",
   "name": "python",
   "nbconvert_exporter": "python",
   "pygments_lexer": "ipython3",
   "version": "3.12.3"
  }
 },
 "nbformat": 4,
 "nbformat_minor": 2
}
