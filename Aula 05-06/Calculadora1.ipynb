{
 "cells": [
  {
   "cell_type": "markdown",
   "metadata": {},
   "source": [
    "Calculadora:"
   ]
  },
  {
   "cell_type": "code",
   "execution_count": 15,
   "metadata": {},
   "outputs": [
    {
     "name": "stdout",
     "output_type": "stream",
     "text": [
      "+===================+\n",
      "| MENU DE OPERAÇÕES |\n",
      "| 1 - Somar         |\n",
      "| 2 - Subtrair      |\n",
      "| 3 - Multiplicar   |\n",
      "| 4 - Dividir       |\n",
      "| 0 - Sair          |\n",
      "+===================+\n",
      "O resultado da Multiplicação é:  4\n"
     ]
    }
   ],
   "source": [
    "\n",
    "def soma(n1, n2):\n",
    "    return n1 + n2\n",
    "\n",
    "def subtracao(n1, n2):\n",
    "    return n1 - n2\n",
    "\n",
    "def multiplicacao(n1, n2):\n",
    "    return n1 * n2\n",
    "\n",
    "def divisao(n1, n2):\n",
    "    return n1 / n2\n",
    "\n",
    "while True:\n",
    "    print(\"+===================+\")\n",
    "    print(\"| MENU DE OPERAÇÕES |\")\n",
    "    print(\"| 1 - Somar         |\")\n",
    "    print(\"| 2 - Subtrair      |\")\n",
    "    print(\"| 3 - Multiplicar   |\")\n",
    "    print(\"| 4 - Dividir       |\")\n",
    "    print(\"| 0 - Sair          |\")\n",
    "    print(\"+===================+\")\n",
    "\n",
    "    op = int(input())\n",
    "\n",
    "    if op == 0:\n",
    "     break\n",
    "\n",
    "    n1 = int(input(\"Primeiro numero\"))\n",
    "    n2 = int(input(\"Segundo numero\"))\n",
    "\n",
    "    if op == 1:\n",
    "        print(\"O resultado da Soma é: \", soma(n1,n2))\n",
    "        break\n",
    "    elif op ==2:\n",
    "         print(\"O resultado da Subtração é: \", subtracao(n1,n2))\n",
    "         break\n",
    "\n",
    "    elif op ==3:\n",
    "         print(\"O resultado da Multiplicação é: \", multiplicacao(n1,n2))\n",
    "         break\n",
    "\n",
    "    elif op ==4:\n",
    "         print(\"O resultado da Divisão é: \", divisao(n1,n2))\n",
    "         break\n",
    "\n",
    "    else:\n",
    "      print(\"Digite uma das opções \")\n",
    "\n",
    "\n",
    "\n",
    "    \n",
    "\n",
    "\n"
   ]
  },
  {
   "cell_type": "code",
   "execution_count": null,
   "metadata": {},
   "outputs": [],
   "source": [
    "\n",
    "   "
   ]
  }
 ],
 "metadata": {
  "kernelspec": {
   "display_name": "Python 3",
   "language": "python",
   "name": "python3"
  },
  "language_info": {
   "codemirror_mode": {
    "name": "ipython",
    "version": 3
   },
   "file_extension": ".py",
   "mimetype": "text/x-python",
   "name": "python",
   "nbconvert_exporter": "python",
   "pygments_lexer": "ipython3",
   "version": "3.11.9"
  }
 },
 "nbformat": 4,
 "nbformat_minor": 2
}
